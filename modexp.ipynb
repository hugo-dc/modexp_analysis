{
 "cells": [
  {
   "cell_type": "code",
   "execution_count": 1,
   "id": "1d7aca17-4c1f-482a-8aa5-e7d2b425e03d",
   "metadata": {},
   "outputs": [],
   "source": [
    "import pandas as pd\n",
    "import numpy as np\n",
    "import matplotlib.pyplot as plt"
   ]
  },
  {
   "cell_type": "code",
   "execution_count": 2,
   "id": "42d5e60e-b058-4df0-b21d-5583b2ee4c37",
   "metadata": {},
   "outputs": [],
   "source": [
    "CSV_DATA=\"s_modexp_250105.txt\""
   ]
  },
  {
   "cell_type": "code",
   "execution_count": 3,
   "id": "c9c2731f-a394-4cda-b7b1-876813ae415d",
   "metadata": {},
   "outputs": [],
   "source": [
    "columns=[\"block\",\"transaction\",\"base_len\",\"exp_len\",\"mod_len\"]"
   ]
  },
  {
   "cell_type": "code",
   "execution_count": 4,
   "id": "ef6ba1d9-2bca-4a33-998d-950a0f9febe0",
   "metadata": {},
   "outputs": [],
   "source": [
    "df = pd.read_csv(CSV_DATA, names=columns)"
   ]
  },
  {
   "cell_type": "code",
   "execution_count": 5,
   "id": "cc7a38e6-b004-41f9-bef3-32b0081b1fe7",
   "metadata": {},
   "outputs": [],
   "source": [
    "pd.set_option('display.max_colwidth', None)"
   ]
  },
  {
   "cell_type": "markdown",
   "id": "5880ca0b-46e5-4df8-9e54-f1c68a60a01d",
   "metadata": {},
   "source": [
    "# MODEXP Calls Analysis\n",
    "\n",
    "The following dataset contains the log of all calls to `MODEXP` opcode, since introduced in the Byzantium Hard Fork.\n",
    "\n",
    "First `MODEXP` call found at block `5472266` (April 20, 2018), until the end of the tracing at block `21550926` (January 4th, 2025):"
   ]
  },
  {
   "cell_type": "code",
   "execution_count": 6,
   "id": "bde4c772-6c1d-4afc-8c60-bf711efe91d2",
   "metadata": {},
   "outputs": [
    {
     "data": {
      "text/html": [
       "<div>\n",
       "<style scoped>\n",
       "    .dataframe tbody tr th:only-of-type {\n",
       "        vertical-align: middle;\n",
       "    }\n",
       "\n",
       "    .dataframe tbody tr th {\n",
       "        vertical-align: top;\n",
       "    }\n",
       "\n",
       "    .dataframe thead th {\n",
       "        text-align: right;\n",
       "    }\n",
       "</style>\n",
       "<table border=\"1\" class=\"dataframe\">\n",
       "  <thead>\n",
       "    <tr style=\"text-align: right;\">\n",
       "      <th></th>\n",
       "      <th>block</th>\n",
       "      <th>transaction</th>\n",
       "      <th>base_len</th>\n",
       "      <th>exp_len</th>\n",
       "      <th>mod_len</th>\n",
       "    </tr>\n",
       "  </thead>\n",
       "  <tbody>\n",
       "    <tr>\n",
       "      <th>0</th>\n",
       "      <td>5472266</td>\n",
       "      <td>0xd6a33837bd441e4639f8fef24ce4f5502aca7e33c31fba9111591c59fddc8d82</td>\n",
       "      <td>0.0</td>\n",
       "      <td>0.0</td>\n",
       "      <td>0.0</td>\n",
       "    </tr>\n",
       "    <tr>\n",
       "      <th>1</th>\n",
       "      <td>6153833</td>\n",
       "      <td>0xb5d873f01c0d14de16207c5cf2d63a85b6fd6b8b05b24e91b323555b6a937ce0</td>\n",
       "      <td>0.0</td>\n",
       "      <td>0.0</td>\n",
       "      <td>0.0</td>\n",
       "    </tr>\n",
       "    <tr>\n",
       "      <th>2</th>\n",
       "      <td>6245529</td>\n",
       "      <td>0x76354bbec0a2efe1fabbd479b215c8ac0db0b65e092eceddd7f20eb560bd1807</td>\n",
       "      <td>128.0</td>\n",
       "      <td>3.0</td>\n",
       "      <td>128.0</td>\n",
       "    </tr>\n",
       "    <tr>\n",
       "      <th>3</th>\n",
       "      <td>6245529</td>\n",
       "      <td>0x76354bbec0a2efe1fabbd479b215c8ac0db0b65e092eceddd7f20eb560bd1807</td>\n",
       "      <td>256.0</td>\n",
       "      <td>3.0</td>\n",
       "      <td>256.0</td>\n",
       "    </tr>\n",
       "    <tr>\n",
       "      <th>4</th>\n",
       "      <td>6245933</td>\n",
       "      <td>0xc9e90e8eb6d5252afc134c65dca7cbbde61de7fcb99fc95d09c63db2e0f520c3</td>\n",
       "      <td>128.0</td>\n",
       "      <td>3.0</td>\n",
       "      <td>128.0</td>\n",
       "    </tr>\n",
       "    <tr>\n",
       "      <th>...</th>\n",
       "      <td>...</td>\n",
       "      <td>...</td>\n",
       "      <td>...</td>\n",
       "      <td>...</td>\n",
       "      <td>...</td>\n",
       "    </tr>\n",
       "    <tr>\n",
       "      <th>2447233</th>\n",
       "      <td>21550909</td>\n",
       "      <td>0x18cec987ba6e44a721f17aa8c9874825e1ca01530b76c4ac818685f9b60ca8f3</td>\n",
       "      <td>32.0</td>\n",
       "      <td>32.0</td>\n",
       "      <td>32.0</td>\n",
       "    </tr>\n",
       "    <tr>\n",
       "      <th>2447234</th>\n",
       "      <td>21550913</td>\n",
       "      <td>0x06257445e61531c77e512436620445124ae0dcc955db7e02561f9c258396e120</td>\n",
       "      <td>32.0</td>\n",
       "      <td>32.0</td>\n",
       "      <td>32.0</td>\n",
       "    </tr>\n",
       "    <tr>\n",
       "      <th>2447235</th>\n",
       "      <td>21550922</td>\n",
       "      <td>0x501681652742008067d92baeebfc1a5712c03ae752e9ba7b7b1fba45adf50fe7</td>\n",
       "      <td>32.0</td>\n",
       "      <td>32.0</td>\n",
       "      <td>32.0</td>\n",
       "    </tr>\n",
       "    <tr>\n",
       "      <th>2447236</th>\n",
       "      <td>21550923</td>\n",
       "      <td>0xaf04dfab7a512a4b2d36475f987fa9255c3adcfe9d67fe8840b4f89c7304f9cb</td>\n",
       "      <td>32.0</td>\n",
       "      <td>32.0</td>\n",
       "      <td>32.0</td>\n",
       "    </tr>\n",
       "    <tr>\n",
       "      <th>2447237</th>\n",
       "      <td>21550926</td>\n",
       "      <td>0x9d20503f9138fb20d08805114181ade1237b6d3b582a2f4e515ec8ef111b692a</td>\n",
       "      <td>32.0</td>\n",
       "      <td>32.0</td>\n",
       "      <td>32.0</td>\n",
       "    </tr>\n",
       "  </tbody>\n",
       "</table>\n",
       "<p>2447238 rows × 5 columns</p>\n",
       "</div>"
      ],
      "text/plain": [
       "            block  \\\n",
       "0         5472266   \n",
       "1         6153833   \n",
       "2         6245529   \n",
       "3         6245529   \n",
       "4         6245933   \n",
       "...           ...   \n",
       "2447233  21550909   \n",
       "2447234  21550913   \n",
       "2447235  21550922   \n",
       "2447236  21550923   \n",
       "2447237  21550926   \n",
       "\n",
       "                                                                transaction  \\\n",
       "0        0xd6a33837bd441e4639f8fef24ce4f5502aca7e33c31fba9111591c59fddc8d82   \n",
       "1        0xb5d873f01c0d14de16207c5cf2d63a85b6fd6b8b05b24e91b323555b6a937ce0   \n",
       "2        0x76354bbec0a2efe1fabbd479b215c8ac0db0b65e092eceddd7f20eb560bd1807   \n",
       "3        0x76354bbec0a2efe1fabbd479b215c8ac0db0b65e092eceddd7f20eb560bd1807   \n",
       "4        0xc9e90e8eb6d5252afc134c65dca7cbbde61de7fcb99fc95d09c63db2e0f520c3   \n",
       "...                                                                     ...   \n",
       "2447233  0x18cec987ba6e44a721f17aa8c9874825e1ca01530b76c4ac818685f9b60ca8f3   \n",
       "2447234  0x06257445e61531c77e512436620445124ae0dcc955db7e02561f9c258396e120   \n",
       "2447235  0x501681652742008067d92baeebfc1a5712c03ae752e9ba7b7b1fba45adf50fe7   \n",
       "2447236  0xaf04dfab7a512a4b2d36475f987fa9255c3adcfe9d67fe8840b4f89c7304f9cb   \n",
       "2447237  0x9d20503f9138fb20d08805114181ade1237b6d3b582a2f4e515ec8ef111b692a   \n",
       "\n",
       "         base_len  exp_len  mod_len  \n",
       "0             0.0      0.0      0.0  \n",
       "1             0.0      0.0      0.0  \n",
       "2           128.0      3.0    128.0  \n",
       "3           256.0      3.0    256.0  \n",
       "4           128.0      3.0    128.0  \n",
       "...           ...      ...      ...  \n",
       "2447233      32.0     32.0     32.0  \n",
       "2447234      32.0     32.0     32.0  \n",
       "2447235      32.0     32.0     32.0  \n",
       "2447236      32.0     32.0     32.0  \n",
       "2447237      32.0     32.0     32.0  \n",
       "\n",
       "[2447238 rows x 5 columns]"
      ]
     },
     "execution_count": 6,
     "metadata": {},
     "output_type": "execute_result"
    }
   ],
   "source": [
    "df"
   ]
  },
  {
   "cell_type": "markdown",
   "id": "847a8ddb-90c4-4e5a-afbe-b33a34eb8e0c",
   "metadata": {
    "editable": true,
    "slideshow": {
     "slide_type": ""
    },
    "tags": []
   },
   "source": [
    "## Base Length\n",
    "\n",
    "The following table shows the different base lengths in bytes as well as how frequently they are used during `MODEXP` call:"
   ]
  },
  {
   "cell_type": "code",
   "execution_count": 7,
   "id": "7a534551-9bd3-4c6c-92c8-f4c37acfbad8",
   "metadata": {},
   "outputs": [
    {
     "data": {
      "text/html": [
       "<div>\n",
       "<style scoped>\n",
       "    .dataframe tbody tr th:only-of-type {\n",
       "        vertical-align: middle;\n",
       "    }\n",
       "\n",
       "    .dataframe tbody tr th {\n",
       "        vertical-align: top;\n",
       "    }\n",
       "\n",
       "    .dataframe thead th {\n",
       "        text-align: right;\n",
       "    }\n",
       "</style>\n",
       "<table border=\"1\" class=\"dataframe\">\n",
       "  <thead>\n",
       "    <tr style=\"text-align: right;\">\n",
       "      <th></th>\n",
       "      <th>count</th>\n",
       "    </tr>\n",
       "    <tr>\n",
       "      <th>base_len</th>\n",
       "      <th></th>\n",
       "    </tr>\n",
       "  </thead>\n",
       "  <tbody>\n",
       "    <tr>\n",
       "      <th>32.0</th>\n",
       "      <td>2439595</td>\n",
       "    </tr>\n",
       "    <tr>\n",
       "      <th>128.0</th>\n",
       "      <td>4167</td>\n",
       "    </tr>\n",
       "    <tr>\n",
       "      <th>256.0</th>\n",
       "      <td>2969</td>\n",
       "    </tr>\n",
       "    <tr>\n",
       "      <th>160.0</th>\n",
       "      <td>436</td>\n",
       "    </tr>\n",
       "    <tr>\n",
       "      <th>512.0</th>\n",
       "      <td>36</td>\n",
       "    </tr>\n",
       "    <tr>\n",
       "      <th>0.0</th>\n",
       "      <td>13</td>\n",
       "    </tr>\n",
       "    <tr>\n",
       "      <th>64.0</th>\n",
       "      <td>7</td>\n",
       "    </tr>\n",
       "    <tr>\n",
       "      <th>78.0</th>\n",
       "      <td>2</td>\n",
       "    </tr>\n",
       "    <tr>\n",
       "      <th>513.0</th>\n",
       "      <td>2</td>\n",
       "    </tr>\n",
       "    <tr>\n",
       "      <th>129.0</th>\n",
       "      <td>1</td>\n",
       "    </tr>\n",
       "    <tr>\n",
       "      <th>385.0</th>\n",
       "      <td>1</td>\n",
       "    </tr>\n",
       "  </tbody>\n",
       "</table>\n",
       "</div>"
      ],
      "text/plain": [
       "            count\n",
       "base_len         \n",
       "32.0      2439595\n",
       "128.0        4167\n",
       "256.0        2969\n",
       "160.0         436\n",
       "512.0          36\n",
       "0.0            13\n",
       "64.0            7\n",
       "78.0            2\n",
       "513.0           2\n",
       "129.0           1\n",
       "385.0           1"
      ]
     },
     "execution_count": 7,
     "metadata": {},
     "output_type": "execute_result"
    }
   ],
   "source": [
    "pd.DataFrame(df['base_len'].value_counts(), columns=['count'])"
   ]
  },
  {
   "cell_type": "markdown",
   "id": "7cb6ef42-c86a-4e22-b0ad-3b3f739b4724",
   "metadata": {},
   "source": [
    "## Exponent Length \n",
    "\n",
    "Different Exponent Lengths in bytes and how frequently they are used during `MODEXP` calls:"
   ]
  },
  {
   "cell_type": "code",
   "execution_count": 8,
   "id": "dbdbf099-8ac4-4c8c-947f-924ed27a0212",
   "metadata": {},
   "outputs": [
    {
     "data": {
      "text/html": [
       "<div>\n",
       "<style scoped>\n",
       "    .dataframe tbody tr th:only-of-type {\n",
       "        vertical-align: middle;\n",
       "    }\n",
       "\n",
       "    .dataframe tbody tr th {\n",
       "        vertical-align: top;\n",
       "    }\n",
       "\n",
       "    .dataframe thead th {\n",
       "        text-align: right;\n",
       "    }\n",
       "</style>\n",
       "<table border=\"1\" class=\"dataframe\">\n",
       "  <thead>\n",
       "    <tr style=\"text-align: right;\">\n",
       "      <th></th>\n",
       "      <th>count</th>\n",
       "    </tr>\n",
       "    <tr>\n",
       "      <th>exp_len</th>\n",
       "      <th></th>\n",
       "    </tr>\n",
       "  </thead>\n",
       "  <tbody>\n",
       "    <tr>\n",
       "      <th>32.0</th>\n",
       "      <td>2442255</td>\n",
       "    </tr>\n",
       "    <tr>\n",
       "      <th>3.0</th>\n",
       "      <td>4771</td>\n",
       "    </tr>\n",
       "    <tr>\n",
       "      <th>1.0</th>\n",
       "      <td>159</td>\n",
       "    </tr>\n",
       "    <tr>\n",
       "      <th>128.0</th>\n",
       "      <td>29</td>\n",
       "    </tr>\n",
       "    <tr>\n",
       "      <th>0.0</th>\n",
       "      <td>13</td>\n",
       "    </tr>\n",
       "    <tr>\n",
       "      <th>5.0</th>\n",
       "      <td>2</td>\n",
       "    </tr>\n",
       "  </tbody>\n",
       "</table>\n",
       "</div>"
      ],
      "text/plain": [
       "           count\n",
       "exp_len         \n",
       "32.0     2442255\n",
       "3.0         4771\n",
       "1.0          159\n",
       "128.0         29\n",
       "0.0           13\n",
       "5.0            2"
      ]
     },
     "execution_count": 8,
     "metadata": {},
     "output_type": "execute_result"
    }
   ],
   "source": [
    "pd.DataFrame(df['exp_len'].value_counts(), columns=['count'])"
   ]
  },
  {
   "cell_type": "markdown",
   "id": "d731ff29-6f63-4283-8f94-2c65743bdc5e",
   "metadata": {},
   "source": [
    "## Modulo length\n",
    "\n",
    "Different Modulo lengths in bytes and how frequently they are used during `MODEXP` calls:"
   ]
  },
  {
   "cell_type": "code",
   "execution_count": 9,
   "id": "77c5a942-9b2f-4995-b553-4d2e56d4b65a",
   "metadata": {},
   "outputs": [
    {
     "data": {
      "text/html": [
       "<div>\n",
       "<style scoped>\n",
       "    .dataframe tbody tr th:only-of-type {\n",
       "        vertical-align: middle;\n",
       "    }\n",
       "\n",
       "    .dataframe tbody tr th {\n",
       "        vertical-align: top;\n",
       "    }\n",
       "\n",
       "    .dataframe thead th {\n",
       "        text-align: right;\n",
       "    }\n",
       "</style>\n",
       "<table border=\"1\" class=\"dataframe\">\n",
       "  <thead>\n",
       "    <tr style=\"text-align: right;\">\n",
       "      <th></th>\n",
       "      <th>count</th>\n",
       "    </tr>\n",
       "    <tr>\n",
       "      <th>mod_len</th>\n",
       "      <th></th>\n",
       "    </tr>\n",
       "  </thead>\n",
       "  <tbody>\n",
       "    <tr>\n",
       "      <th>32.0</th>\n",
       "      <td>2439594</td>\n",
       "    </tr>\n",
       "    <tr>\n",
       "      <th>128.0</th>\n",
       "      <td>4167</td>\n",
       "    </tr>\n",
       "    <tr>\n",
       "      <th>256.0</th>\n",
       "      <td>2968</td>\n",
       "    </tr>\n",
       "    <tr>\n",
       "      <th>160.0</th>\n",
       "      <td>436</td>\n",
       "    </tr>\n",
       "    <tr>\n",
       "      <th>512.0</th>\n",
       "      <td>38</td>\n",
       "    </tr>\n",
       "    <tr>\n",
       "      <th>0.0</th>\n",
       "      <td>13</td>\n",
       "    </tr>\n",
       "    <tr>\n",
       "      <th>64.0</th>\n",
       "      <td>8</td>\n",
       "    </tr>\n",
       "    <tr>\n",
       "      <th>78.0</th>\n",
       "      <td>2</td>\n",
       "    </tr>\n",
       "    <tr>\n",
       "      <th>129.0</th>\n",
       "      <td>1</td>\n",
       "    </tr>\n",
       "    <tr>\n",
       "      <th>384.0</th>\n",
       "      <td>1</td>\n",
       "    </tr>\n",
       "    <tr>\n",
       "      <th>257.0</th>\n",
       "      <td>1</td>\n",
       "    </tr>\n",
       "  </tbody>\n",
       "</table>\n",
       "</div>"
      ],
      "text/plain": [
       "           count\n",
       "mod_len         \n",
       "32.0     2439594\n",
       "128.0       4167\n",
       "256.0       2968\n",
       "160.0        436\n",
       "512.0         38\n",
       "0.0           13\n",
       "64.0           8\n",
       "78.0           2\n",
       "129.0          1\n",
       "384.0          1\n",
       "257.0          1"
      ]
     },
     "execution_count": 9,
     "metadata": {},
     "output_type": "execute_result"
    }
   ],
   "source": [
    "pd.DataFrame(df['mod_len'].value_counts(), columns=['count'])"
   ]
  },
  {
   "cell_type": "markdown",
   "id": "8418f5b7-91a6-4f25-9e49-d83c70a53599",
   "metadata": {},
   "source": [
    "## Transactions calling MODEXP precompile directly\n",
    "\n",
    "During the trace a total of 9 transactions calling the MODEXP precompile directly using invalid inputs were found, all of them containing empty inputs or values attempting to execute a contract function by its 4byte signature:"
   ]
  },
  {
   "cell_type": "code",
   "execution_count": 10,
   "id": "5915acbe-d30c-4cdb-9962-97fe14297289",
   "metadata": {},
   "outputs": [
    {
     "data": {
      "text/plain": [
       "9"
      ]
     },
     "execution_count": 10,
     "metadata": {},
     "output_type": "execute_result"
    }
   ],
   "source": [
    "df[df.isna().any(axis=1)].shape[0]"
   ]
  },
  {
   "cell_type": "code",
   "execution_count": 11,
   "id": "54675529-785a-44ba-85c8-5ebdd3396689",
   "metadata": {},
   "outputs": [
    {
     "data": {
      "text/html": [
       "<div>\n",
       "<style scoped>\n",
       "    .dataframe tbody tr th:only-of-type {\n",
       "        vertical-align: middle;\n",
       "    }\n",
       "\n",
       "    .dataframe tbody tr th {\n",
       "        vertical-align: top;\n",
       "    }\n",
       "\n",
       "    .dataframe thead th {\n",
       "        text-align: right;\n",
       "    }\n",
       "</style>\n",
       "<table border=\"1\" class=\"dataframe\">\n",
       "  <thead>\n",
       "    <tr style=\"text-align: right;\">\n",
       "      <th></th>\n",
       "      <th>block</th>\n",
       "      <th>transaction</th>\n",
       "      <th>base_len</th>\n",
       "      <th>exp_len</th>\n",
       "      <th>mod_len</th>\n",
       "    </tr>\n",
       "  </thead>\n",
       "  <tbody>\n",
       "    <tr>\n",
       "      <th>1044</th>\n",
       "      <td>10160488</td>\n",
       "      <td>0x391016ea2cf763c6a7fbbb16d0d11741400e88c45291c9287ea3d609cad0242b</td>\n",
       "      <td>NaN</td>\n",
       "      <td>NaN</td>\n",
       "      <td>NaN</td>\n",
       "    </tr>\n",
       "    <tr>\n",
       "      <th>182115</th>\n",
       "      <td>13224456</td>\n",
       "      <td>0x964b2cafd565434d65a0cd5c11c31dad0f5d53aa24219afaa47968778ae5e025</td>\n",
       "      <td>NaN</td>\n",
       "      <td>NaN</td>\n",
       "      <td>NaN</td>\n",
       "    </tr>\n",
       "    <tr>\n",
       "      <th>182119</th>\n",
       "      <td>13224466</td>\n",
       "      <td>0x2914bf385180677c7f2fd8ca90e37cbe67d37463bee99e7d0b6cea1f5f235e6e</td>\n",
       "      <td>NaN</td>\n",
       "      <td>NaN</td>\n",
       "      <td>NaN</td>\n",
       "    </tr>\n",
       "    <tr>\n",
       "      <th>182120</th>\n",
       "      <td>13224470</td>\n",
       "      <td>0x053b42ec2cba7b2f5fe9598c2c09fbe60485bf075ba3d3e943090305adb77cbd</td>\n",
       "      <td>NaN</td>\n",
       "      <td>NaN</td>\n",
       "      <td>NaN</td>\n",
       "    </tr>\n",
       "    <tr>\n",
       "      <th>182121</th>\n",
       "      <td>13224484</td>\n",
       "      <td>0xdf4476216e551f1e1821b1346ea066aa288b69a16b48a22aa5543a7c6993d3a7</td>\n",
       "      <td>NaN</td>\n",
       "      <td>NaN</td>\n",
       "      <td>NaN</td>\n",
       "    </tr>\n",
       "    <tr>\n",
       "      <th>535092</th>\n",
       "      <td>15582983</td>\n",
       "      <td>0x1202de060c663f6633fdcb17cd378508c85a0803ce693da25e1d5c1a8f5d976c</td>\n",
       "      <td>NaN</td>\n",
       "      <td>NaN</td>\n",
       "      <td>NaN</td>\n",
       "    </tr>\n",
       "    <tr>\n",
       "      <th>823848</th>\n",
       "      <td>17541367</td>\n",
       "      <td>0x61bf8e3bce78f3c51cd23ca1b5edbd2a309041754c8178dba97682f671e026c5</td>\n",
       "      <td>NaN</td>\n",
       "      <td>NaN</td>\n",
       "      <td>NaN</td>\n",
       "    </tr>\n",
       "    <tr>\n",
       "      <th>823851</th>\n",
       "      <td>17541380</td>\n",
       "      <td>0xc42aa446112c9c3aab83bc01f9c583f49b8ab24e939f350cce7b7fe96be872fd</td>\n",
       "      <td>NaN</td>\n",
       "      <td>NaN</td>\n",
       "      <td>NaN</td>\n",
       "    </tr>\n",
       "    <tr>\n",
       "      <th>824157</th>\n",
       "      <td>17542480</td>\n",
       "      <td>0xfe1715c9a6b338f9d85646c0585e88dc1d07b97d55d9c81e2011fedb4a3fb599</td>\n",
       "      <td>NaN</td>\n",
       "      <td>NaN</td>\n",
       "      <td>NaN</td>\n",
       "    </tr>\n",
       "  </tbody>\n",
       "</table>\n",
       "</div>"
      ],
      "text/plain": [
       "           block  \\\n",
       "1044    10160488   \n",
       "182115  13224456   \n",
       "182119  13224466   \n",
       "182120  13224470   \n",
       "182121  13224484   \n",
       "535092  15582983   \n",
       "823848  17541367   \n",
       "823851  17541380   \n",
       "824157  17542480   \n",
       "\n",
       "                                                               transaction  \\\n",
       "1044    0x391016ea2cf763c6a7fbbb16d0d11741400e88c45291c9287ea3d609cad0242b   \n",
       "182115  0x964b2cafd565434d65a0cd5c11c31dad0f5d53aa24219afaa47968778ae5e025   \n",
       "182119  0x2914bf385180677c7f2fd8ca90e37cbe67d37463bee99e7d0b6cea1f5f235e6e   \n",
       "182120  0x053b42ec2cba7b2f5fe9598c2c09fbe60485bf075ba3d3e943090305adb77cbd   \n",
       "182121  0xdf4476216e551f1e1821b1346ea066aa288b69a16b48a22aa5543a7c6993d3a7   \n",
       "535092  0x1202de060c663f6633fdcb17cd378508c85a0803ce693da25e1d5c1a8f5d976c   \n",
       "823848  0x61bf8e3bce78f3c51cd23ca1b5edbd2a309041754c8178dba97682f671e026c5   \n",
       "823851  0xc42aa446112c9c3aab83bc01f9c583f49b8ab24e939f350cce7b7fe96be872fd   \n",
       "824157  0xfe1715c9a6b338f9d85646c0585e88dc1d07b97d55d9c81e2011fedb4a3fb599   \n",
       "\n",
       "        base_len  exp_len  mod_len  \n",
       "1044         NaN      NaN      NaN  \n",
       "182115       NaN      NaN      NaN  \n",
       "182119       NaN      NaN      NaN  \n",
       "182120       NaN      NaN      NaN  \n",
       "182121       NaN      NaN      NaN  \n",
       "535092       NaN      NaN      NaN  \n",
       "823848       NaN      NaN      NaN  \n",
       "823851       NaN      NaN      NaN  \n",
       "824157       NaN      NaN      NaN  "
      ]
     },
     "execution_count": 11,
     "metadata": {},
     "output_type": "execute_result"
    }
   ],
   "source": [
    "df[df.isna().any(axis=1)]"
   ]
  },
  {
   "cell_type": "markdown",
   "id": "e85ba3cc-e38c-459f-aed9-dc3556a4bb79",
   "metadata": {},
   "source": [
    "\n",
    "- [0x964b2cafd565434d65a0cd5c11c31dad0f5d53aa24219afaa47968778ae5e025](https://etherscan.io/tx/0x964b2cafd565434d65a0cd5c11c31dad0f5d53aa24219afaa47968778ae5e025): Empty input\n",
    "- [0x2914bf385180677c7f2fd8ca90e37cbe67d37463bee99e7d0b6cea1f5f235e6e](https://etherscan.io/tx/0x2914bf385180677c7f2fd8ca90e37cbe67d37463bee99e7d0b6cea1f5f235e6e): Empty input\n",
    "- [0x053b42ec2cba7b2f5fe9598c2c09fbe60485bf075ba3d3e943090305adb77cbd](https://etherscan.io/tx/0x053b42ec2cba7b2f5fe9598c2c09fbe60485bf075ba3d3e943090305adb77cbd): Empty input\n",
    "- [0xdf4476216e551f1e1821b1346ea066aa288b69a16b48a22aa5543a7c6993d3a7](https://etherscan.io/tx/0xdf4476216e551f1e1821b1346ea066aa288b69a16b48a22aa5543a7c6993d3a7): Empty input\n",
    "- [0x1202de060c663f6633fdcb17cd378508c85a0803ce693da25e1d5c1a8f5d976c](https://etherscan.io/tx/0x1202de060c663f6633fdcb17cd378508c85a0803ce693da25e1d5c1a8f5d976c): Empty input\n",
    "- [0x61bf8e3bce78f3c51cd23ca1b5edbd2a309041754c8178dba97682f671e026c5](https://etherscan.io/tx/0x61bf8e3bce78f3c51cd23ca1b5edbd2a309041754c8178dba97682f671e026c5): Input: `0x9e5faafc` (`attack()`)\n",
    "- [0xc42aa446112c9c3aab83bc01f9c583f49b8ab24e939f350cce7b7fe96be872fd](https://etherscan.io/tx/0xc42aa446112c9c3aab83bc01f9c583f49b8ab24e939f350cce7b7fe96be872fd): Input: `0x9e5faafc` (`attack()`)\n",
    "- [0xfe1715c9a6b338f9d85646c0585e88dc1d07b97d55d9c81e2011fedb4a3fb599](https://etherscan.io/tx/0xfe1715c9a6b338f9d85646c0585e88dc1d07b97d55d9c81e2011fedb4a3fb599): Input: `0x85474728` (`destroySmartContract()`)\n",
    "- [0x391016ea2cf763c6a7fbbb16d0d11741400e88c45291c9287ea3d609cad0242b](https://etherscan.io/tx/0x391016ea2cf763c6a7fbbb16d0d11741400e88c45291c9287ea3d609cad0242b):\n",
    "\n",
    "\n",
    "    ```\n",
    "    0x9e281a98000000000000000000000000000000000000000000000000000000000000000000000000000000000000000000000000000000000000021e19e0c9bab2400000\n",
    "    ```\n",
    "\n",
    "    If we split the input into values of 32 bytes we have:\n",
    "\n",
    "    ```\n",
    "    9e281a9800000000000000000000000000000000000000000000000000000000\n",
    "    0000000000000000000000000000000000000000000000000000021e19e0c9ba\n",
    "    b2400000\n",
    "    ```\n",
    "\n",
    "    Which does not correspond to a valid MODEXP input. \n",
    "\n",
    "    **Note**: The first 4 bytes prefix corresponds to `withdrawToken(address,uint256)`"
   ]
  },
  {
   "cell_type": "markdown",
   "id": "613c6530-ae5e-44e0-9c38-145e0a194210",
   "metadata": {},
   "source": [
    "## MODEXP Intput analysis\n",
    "\n",
    "The file `inputs_data.txt` contains a data set of `~2M` inputs used during calls to the `MODEXP` precompile. This data was analyzed and a second file `inputs_data_zeop.txt` was generated containing information of the given input values, for example:\n",
    "\n",
    "- `z`: Zero value\n",
    "- `e`: Even\n",
    "- `p`: Power of 2\n",
    "- `o`: Odd"
   ]
  },
  {
   "cell_type": "code",
   "execution_count": 12,
   "id": "34d1bf2f-219a-4237-a5ad-8b5f69e47d0c",
   "metadata": {},
   "outputs": [],
   "source": [
    "INPUTS_CSV=\"inputs_data_zeop.txt\"\n",
    "columns=[\"base\", \"exp\", \"mod\", \"base_ge_mod\"]\n",
    "i_df = pd.read_csv(INPUTS_CSV, names=columns, dtype={0:str, 1: str, 2:str, 3:str})"
   ]
  },
  {
   "cell_type": "markdown",
   "id": "46c568f9-1579-41bf-a4de-7e9ede027745",
   "metadata": {},
   "source": [
    "### Zero Inputs\n",
    "\n",
    "Note there are only 3 calls to MODEXP using the value 0 for `Base` and `Mod`.\n",
    "However, in the case of the exponent (`Exp`) a total of 646280 times the value `0` was used, representing the `2.3%`."
   ]
  },
  {
   "cell_type": "code",
   "execution_count": 13,
   "id": "59f0d9f2-2e2b-4277-a569-09db99cd9704",
   "metadata": {},
   "outputs": [
    {
     "name": "stdout",
     "output_type": "stream",
     "text": [
      "base\n",
      "o    1326217\n",
      "e    1004806\n",
      "p        318\n",
      "z          3\n",
      "Name: count, dtype: int64\n",
      "exp\n",
      "e    915684\n",
      "o    716011\n",
      "p    646280\n",
      "z     53369\n",
      "Name: count, dtype: int64\n",
      "mod\n",
      "o    2331076\n",
      "p        265\n",
      "z          3\n",
      "Name: count, dtype: int64\n"
     ]
    }
   ],
   "source": [
    "base_values = i_df['base'].value_counts()\n",
    "exp_values = i_df['exp'].value_counts()\n",
    "mod_values = i_df['mod'].value_counts()\n",
    "print(base_values)\n",
    "print(exp_values)\n",
    "print(mod_values)"
   ]
  },
  {
   "cell_type": "code",
   "execution_count": 14,
   "id": "dbafb9b0-d3c1-42ed-8028-5ae9b6005d38",
   "metadata": {},
   "outputs": [
    {
     "name": "stdout",
     "output_type": "stream",
     "text": [
      "base\n",
      "o    56.89\n",
      "e    43.10\n",
      "p     0.01\n",
      "z     0.00\n",
      "Name: count, dtype: float64\n",
      "exp\n",
      "e    39.28\n",
      "o    30.71\n",
      "p    27.72\n",
      "z     2.29\n",
      "Name: count, dtype: float64\n",
      "mod\n",
      "o    99.99\n",
      "p     0.01\n",
      "z     0.00\n",
      "Name: count, dtype: float64\n"
     ]
    }
   ],
   "source": [
    "b_percentages = (base_values/base_values.sum()).mul(100).round(decimals=2)\n",
    "e_percentages = (exp_values/exp_values.sum()).mul(100).round(decimals=2)\n",
    "m_percentages = (mod_values/mod_values.sum()).mul(100).round(decimals=2)\n",
    "print(b_percentages)\n",
    "print(e_percentages)\n",
    "print(m_percentages)"
   ]
  },
  {
   "cell_type": "code",
   "execution_count": 15,
   "id": "fc15a1fc-1892-4a7a-84f3-f033f8bd5a62",
   "metadata": {},
   "outputs": [
    {
     "data": {
      "text/plain": [
       "([<matplotlib.patches.Wedge at 0x7fb97d452490>,\n",
       "  <matplotlib.patches.Wedge at 0x7fb97d466590>,\n",
       "  <matplotlib.patches.Wedge at 0x7fb97d470550>,\n",
       "  <matplotlib.patches.Wedge at 0x7fb97d4678d0>],\n",
       " [Text(0.3634934593129164, 1.038206388458831, 'Odd'),\n",
       "  Text(-1.0536819118745153, -0.3158392448516595, 'Even'),\n",
       "  Text(0.5806299294723889, -0.9342745233607137, 'Power of 2'),\n",
       "  Text(1.0971545693687348, -0.07906864684125064, 'Zero')],\n",
       " [Text(0.1982691596252271, 0.5662943937048169, '39.3%'),\n",
       "  Text(-0.5747355882951901, -0.1722759517372688, '30.7%'),\n",
       "  Text(0.31670723425766667, -0.5096042854694801, '27.7%'),\n",
       "  Text(0.5984479469284006, -0.04312835282250035, '2.3%')])"
      ]
     },
     "execution_count": 15,
     "metadata": {},
     "output_type": "execute_result"
    },
    {
     "data": {
      "image/png": "[encoded data removed]",
      "text/plain": [
       "<Figure size 600x600 with 1 Axes>"
      ]
     },
     "metadata": {},
     "output_type": "display_data"
    }
   ],
   "source": [
    "fig2, e_ax1 = plt.subplots(figsize=(6,6))\n",
    "plt.title('Exp')\n",
    "e_ax1.pie(x=e_percentages.values, labels=['Odd','Even', 'Power of 2', 'Zero'], autopct='%1.1f%%')"
   ]
  },
  {
   "cell_type": "code",
   "execution_count": 16,
   "id": "b7f18637-05ac-4aa3-a3a5-51da6508ce9c",
   "metadata": {},
   "outputs": [],
   "source": [
    "i_df = i_df[i_df['base'] != 'z']\n",
    "i_df = i_df[i_df['mod'] != 'z']"
   ]
  },
  {
   "cell_type": "markdown",
   "id": "4ee013c3-8103-4e1e-bf51-7e9d376e0934",
   "metadata": {},
   "source": [
    "### Powers of 2\n",
    "\n",
    "According to the collected data, Power's of 2 values are often used for the exponent (`Exp`) parameter."
   ]
  },
  {
   "cell_type": "code",
   "execution_count": 17,
   "id": "4247b785-ebb9-444f-9d56-ef56e5e32257",
   "metadata": {},
   "outputs": [
    {
     "name": "stdout",
     "output_type": "stream",
     "text": [
      "base\n",
      "o    1326217\n",
      "e    1004806\n",
      "p        318\n",
      "Name: count, dtype: int64\n",
      "exp\n",
      "e    915684\n",
      "o    716011\n",
      "p    646280\n",
      "z     53366\n",
      "Name: count, dtype: int64\n",
      "mod\n",
      "o    2331076\n",
      "p        265\n",
      "Name: count, dtype: int64\n"
     ]
    }
   ],
   "source": [
    "base_values = i_df['base'].value_counts()\n",
    "exp_values = i_df['exp'].value_counts()\n",
    "mod_values = i_df['mod'].value_counts()\n",
    "print(base_values)\n",
    "print(exp_values)\n",
    "print(mod_values)"
   ]
  },
  {
   "cell_type": "code",
   "execution_count": 18,
   "id": "0d51a5c9-1fed-4e9d-8735-dbe528f0af49",
   "metadata": {},
   "outputs": [
    {
     "name": "stdout",
     "output_type": "stream",
     "text": [
      "base\n",
      "o    56.89\n",
      "e    43.10\n",
      "p     0.01\n",
      "Name: count, dtype: float64\n",
      "exp\n",
      "e    39.28\n",
      "o    30.71\n",
      "p    27.72\n",
      "z     2.29\n",
      "Name: count, dtype: float64\n",
      "mod\n",
      "o    99.99\n",
      "p     0.01\n",
      "Name: count, dtype: float64\n"
     ]
    }
   ],
   "source": [
    "b_percentages = (base_values/base_values.sum()).mul(100).round(decimals=2)\n",
    "e_percentages = (exp_values/exp_values.sum()).mul(100).round(decimals=2)\n",
    "m_percentages = (mod_values/mod_values.sum()).mul(100).round(decimals=2)\n",
    "print(b_percentages)\n",
    "print(e_percentages)\n",
    "print(m_percentages)"
   ]
  },
  {
   "cell_type": "code",
   "execution_count": 19,
   "id": "f721dd3a-7d88-4d81-8dbc-093f42cee76e",
   "metadata": {},
   "outputs": [
    {
     "data": {
      "text/plain": [
       "([<matplotlib.patches.Wedge at 0x7fb993adf010>,\n",
       "  <matplotlib.patches.Wedge at 0x7fb9930f12d0>,\n",
       "  <matplotlib.patches.Wedge at 0x7fb9930f3350>,\n",
       "  <matplotlib.patches.Wedge at 0x7fb9930f2950>],\n",
       " [Text(0.3634934593129164, 1.038206388458831, 'Odd'),\n",
       "  Text(-1.0536819118745153, -0.3158392448516595, 'Even'),\n",
       "  Text(0.5806299294723889, -0.9342745233607137, 'Power of 2'),\n",
       "  Text(1.0971545693687348, -0.07906864684125064, 'Zero')],\n",
       " [Text(0.1982691596252271, 0.5662943937048169, '39.3%'),\n",
       "  Text(-0.5747355882951901, -0.1722759517372688, '30.7%'),\n",
       "  Text(0.31670723425766667, -0.5096042854694801, '27.7%'),\n",
       "  Text(0.5984479469284006, -0.04312835282250035, '2.3%')])"
      ]
     },
     "execution_count": 19,
     "metadata": {},
     "output_type": "execute_result"
    },
    {
     "data": {
      "image/png": "[encoded data removed]",
      "text/plain": [
       "<Figure size 600x600 with 1 Axes>"
      ]
     },
     "metadata": {},
     "output_type": "display_data"
    }
   ],
   "source": [
    "fig2, e_ax1 = plt.subplots(figsize=(6,6))\n",
    "plt.title('Exp')\n",
    "e_ax1.pie(x=e_percentages.values, labels=['Odd','Even', 'Power of 2', 'Zero'], autopct='%1.1f%%')"
   ]
  },
  {
   "cell_type": "markdown",
   "id": "cd909d51-03b3-461f-afa1-55f65965ae7f",
   "metadata": {},
   "source": [
    "### Even vs Odd\n",
    "\n",
    "In case of Modulus (`Mod`) **Odd** values are the most frequently used (`99.99%` according to the collected data)."
   ]
  },
  {
   "cell_type": "code",
   "execution_count": 20,
   "id": "236849da-a364-4542-b5e6-2544b6546c30",
   "metadata": {},
   "outputs": [],
   "source": [
    "i_df_oe = i_df\n",
    "i_df_oe.loc[i_df_oe['base'] == 'p', 'base'] = 'e'\n",
    "i_df_oe.loc[i_df_oe['exp'] == 'p', 'exp'] = 'e'\n",
    "i_df_oe.loc[i_df_oe['mod'] == 'p', 'mod'] = 'e'\n",
    "base_values = i_df_oe['base'].value_counts()\n",
    "exp_values = i_df_oe['exp'].value_counts()\n",
    "mod_values = i_df_oe['mod'].value_counts()"
   ]
  },
  {
   "cell_type": "code",
   "execution_count": 21,
   "id": "67ed75d4-f573-49ef-91d6-e827943d898d",
   "metadata": {},
   "outputs": [
    {
     "name": "stdout",
     "output_type": "stream",
     "text": [
      "base\n",
      "o    1326217\n",
      "e    1005124\n",
      "Name: count, dtype: int64\n",
      "exp\n",
      "e    1561964\n",
      "o     716011\n",
      "z      53366\n",
      "Name: count, dtype: int64\n",
      "mod\n",
      "o    2331076\n",
      "e        265\n",
      "Name: count, dtype: int64\n"
     ]
    }
   ],
   "source": [
    "print(base_values)\n",
    "print(exp_values)\n",
    "print(mod_values)"
   ]
  },
  {
   "cell_type": "code",
   "execution_count": 22,
   "id": "943b6b25-2f88-4f74-ad04-4acf5a9e83e8",
   "metadata": {},
   "outputs": [
    {
     "name": "stdout",
     "output_type": "stream",
     "text": [
      "base\n",
      "o    56.89\n",
      "e    43.11\n",
      "Name: count, dtype: float64\n",
      "exp\n",
      "e    67.00\n",
      "o    30.71\n",
      "z     2.29\n",
      "Name: count, dtype: float64\n",
      "mod\n",
      "o    99.99\n",
      "e     0.01\n",
      "Name: count, dtype: float64\n"
     ]
    }
   ],
   "source": [
    "b_percentages = (base_values/base_values.sum()).mul(100).round(decimals=2)\n",
    "e_percentages = (exp_values/exp_values.sum()).mul(100).round(decimals=2)\n",
    "m_percentages = (mod_values/mod_values.sum()).mul(100).round(decimals=2)\n",
    "print(b_percentages)\n",
    "print(e_percentages)\n",
    "print(m_percentages)"
   ]
  },
  {
   "cell_type": "code",
   "execution_count": 23,
   "id": "60c5029b-a4d5-4762-9969-3ad89a0bf7ab",
   "metadata": {},
   "outputs": [
    {
     "data": {
      "text/plain": [
       "([<matplotlib.patches.Wedge at 0x7fb992fb5c90>,\n",
       "  <matplotlib.patches.Wedge at 0x7fb992fd4110>],\n",
       " [Text(-1.099999945720978, 0.00034556308523955436, 'Odd'),\n",
       "  Text(1.0999999457511838, -0.0003454669201862942, 'Even')],\n",
       " [Text(-0.5999999703932606, 0.00018848895558521144, '99.99%'),\n",
       "  Text(0.5999999704097365, -0.00018843650191979682, '0.01%')])"
      ]
     },
     "execution_count": 23,
     "metadata": {},
     "output_type": "execute_result"
    },
    {
     "data": {
      "image/png": "[encoded data removed]",
      "text/plain": [
       "<Figure size 600x600 with 1 Axes>"
      ]
     },
     "metadata": {},
     "output_type": "display_data"
    },
    {
     "data": {
      "image/png": "[encoded data removed]",
      "text/plain": [
       "<Figure size 600x600 with 1 Axes>"
      ]
     },
     "metadata": {},
     "output_type": "display_data"
    },
    {
     "data": {
      "image/png": "[encoded data removed]",
      "text/plain": [
       "<Figure size 600x600 with 1 Axes>"
      ]
     },
     "metadata": {},
     "output_type": "display_data"
    }
   ],
   "source": [
    "fig1, b_ax1 = plt.subplots(figsize=(6,6))\n",
    "plt.title('Base')\n",
    "b_ax1.pie(x=b_percentages.values, labels=['Odd','Even'], autopct='%1.1f%%')\n",
    "\n",
    "fig2, e_ax1 = plt.subplots(figsize=(6,6))\n",
    "plt.title('Exp')\n",
    "e_ax1.pie(x=e_percentages.values, labels=['Odd','Even', 'Zero'], autopct='%1.1f%%')\n",
    "\n",
    "fig3, m_ax1 = plt.subplots(figsize=(6,6))\n",
    "plt.title('Mod')\n",
    "m_ax1.pie(x=m_percentages.values, labels=['Odd','Even'], autopct='%1.2f%%')"
   ]
  },
  {
   "cell_type": "markdown",
   "id": "042548a0-073a-433d-920d-b22358e39bc7",
   "metadata": {},
   "source": [
    "### Base vs Mod\n",
    "\n",
    "- NO record was found where `Base > Mod`.\n",
    "- ONLY 265 (`0.01%`) records were found where `Base == Mod`"
   ]
  },
  {
   "cell_type": "code",
   "execution_count": 24,
   "id": "3afef7d1-cb55-4a83-bd2e-b9d223dbe328",
   "metadata": {},
   "outputs": [
    {
     "data": {
      "text/plain": [
       "base_ge_mod\n",
       "     2331076\n",
       "x        265\n",
       "Name: count, dtype: int64"
      ]
     },
     "execution_count": 24,
     "metadata": {},
     "output_type": "execute_result"
    }
   ],
   "source": [
    "i_df = i_df.fillna('')\n",
    "values = i_df['base_ge_mod'].value_counts()\n",
    "values"
   ]
  },
  {
   "cell_type": "code",
   "execution_count": 25,
   "id": "f110c27f-a055-440b-924c-4a6199ad8785",
   "metadata": {},
   "outputs": [
    {
     "data": {
      "text/plain": [
       "base_ge_mod\n",
       "     99.99\n",
       "x     0.01\n",
       "Name: count, dtype: float64"
      ]
     },
     "execution_count": 25,
     "metadata": {},
     "output_type": "execute_result"
    }
   ],
   "source": [
    "percentages = (values/values.sum()).mul(100).round(decimals=2)\n",
    "percentages"
   ]
  },
  {
   "cell_type": "markdown",
   "id": "81fd0d79-8fad-494f-98ec-f59c2d2cf9b3",
   "metadata": {},
   "source": [
    "### "
   ]
  }
 ],
 "metadata": {
  "kernelspec": {
   "display_name": "Python 3 (ipykernel)",
   "language": "python",
   "name": "python3"
  },
  "language_info": {
   "codemirror_mode": {
    "name": "ipython",
    "version": 3
   },
   "file_extension": ".py",
   "mimetype": "text/x-python",
   "name": "python",
   "nbconvert_exporter": "python",
   "pygments_lexer": "ipython3",
   "version": "3.11.2"
  }
 },
 "nbformat": 4,
 "nbformat_minor": 5
}
